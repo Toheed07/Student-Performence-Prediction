{
 "cells": [
  {
   "cell_type": "code",
   "execution_count": 3,
   "id": "7932e4b3",
   "metadata": {},
   "outputs": [],
   "source": [
    "import random\n",
    "import pandas as pd\n",
    "\n",
    "# Define the number of students and topics\n",
    "num_students = 100\n",
    "num_topics = 5\n",
    "\n",
    "# Generate random student IDs\n",
    "student_ids = [f\"Student_{i+1}\" for i in range(num_students)]\n",
    "\n",
    "# Generate random performance data for each student and topic\n",
    "data = []\n",
    "for student_id in student_ids:\n",
    "    performance = {\"Student_ID\": student_id}\n",
    "    total_correct = 0\n",
    "    total_questions = 0\n",
    "    for topic in range(num_topics):\n",
    "        # Generate random number of questions and correct answers for the topic\n",
    "        questions = random.randint(5, 10)\n",
    "        correct_answers = random.randint(0, questions)\n",
    "        \n",
    "        # Update the total number of correct answers and total questions\n",
    "        total_correct += correct_answers\n",
    "        total_questions += questions\n",
    "        \n",
    "        # Add the topic's data to the performance dictionary\n",
    "        performance[f\"Topic_{topic+1}_Questions\"] = questions\n",
    "        performance[f\"Topic_{topic+1}_Correct\"] = correct_answers\n",
    "    \n",
    "    # Add the total correct and total questions to the performance dictionary\n",
    "    performance[\"Total_Correct\"] = total_correct\n",
    "    performance[\"Total_Questions\"] = total_questions\n",
    "    \n",
    "    data.append(performance)\n",
    "\n",
    "# Create a DataFrame from the generated data\n",
    "df = pd.DataFrame(data)\n",
    "\n",
    "# Save the generated fake data\n",
    "df.to_csv('Student_Perfomerce_Data.csv')"
   ]
  },
  {
   "cell_type": "code",
   "execution_count": null,
   "id": "dceabd91",
   "metadata": {},
   "outputs": [],
   "source": []
  }
 ],
 "metadata": {
  "kernelspec": {
   "display_name": "Python 3 (ipykernel)",
   "language": "python",
   "name": "python3"
  },
  "language_info": {
   "codemirror_mode": {
    "name": "ipython",
    "version": 3
   },
   "file_extension": ".py",
   "mimetype": "text/x-python",
   "name": "python",
   "nbconvert_exporter": "python",
   "pygments_lexer": "ipython3",
   "version": "3.10.9"
  }
 },
 "nbformat": 4,
 "nbformat_minor": 5
}
